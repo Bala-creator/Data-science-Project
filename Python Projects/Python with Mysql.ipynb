{
 "cells": [
  {
   "cell_type": "code",
   "execution_count": 1,
   "id": "f2ff1d76-4efc-4b25-8af0-6b1704d61e25",
   "metadata": {},
   "outputs": [
    {
     "name": "stdout",
     "output_type": "stream",
     "text": [
      "<mysql.connector.connection_cext.CMySQLConnection object at 0x000001CEDDD3BA50>\n"
     ]
    }
   ],
   "source": [
    "import mysql.connector\n",
    "\n",
    "mydb = mysql.connector.connect(\n",
    "  host=\"localhost\",\n",
    "  user=\"root\",\n",
    "  password=\"16RBcs#@$\"\n",
    ")\n",
    "\n",
    "print(mydb)"
   ]
  },
  {
   "cell_type": "code",
   "execution_count": 2,
   "id": "2263c4b8-df20-4cee-a3a3-2dacaf2c5841",
   "metadata": {},
   "outputs": [],
   "source": [
    "import mysql.connector\n",
    "\n",
    "mydb = mysql.connector.connect(\n",
    "  host=\"localhost\",\n",
    "  user=\"root\",\n",
    "  password=\"16RBcs#@$\"\n",
    ")\n",
    "mycursor = mydb.cursor()\n",
    "\n",
    "mycursor.execute(\"CREATE DATABASE School\")"
   ]
  },
  {
   "cell_type": "code",
   "execution_count": 3,
   "id": "9a616035-8400-400e-8e79-a0e527c28e89",
   "metadata": {},
   "outputs": [
    {
     "name": "stdout",
     "output_type": "stream",
     "text": [
      "('information_schema',)\n",
      "('mysql',)\n",
      "('performance_schema',)\n",
      "('school',)\n",
      "('sys',)\n"
     ]
    }
   ],
   "source": [
    "import mysql.connector\n",
    "\n",
    "mydb = mysql.connector.connect(\n",
    "  host=\"localhost\",\n",
    "  user=\"root\",\n",
    "  password=\"16RBcs#@$\"\n",
    ")\n",
    "\n",
    "mycursor = mydb.cursor()\n",
    "\n",
    "mycursor.execute(\"SHOW DATABASES\")\n",
    "\n",
    "for x in mycursor:\n",
    "  print(x)"
   ]
  },
  {
   "cell_type": "code",
   "execution_count": 4,
   "id": "2e5cc408-de2b-41bb-8454-9b8035f00e3c",
   "metadata": {},
   "outputs": [],
   "source": [
    "import mysql.connector\n",
    "\n",
    "mydb = mysql.connector.connect(\n",
    " host=\"localhost\",\n",
    "  user=\"root\",\n",
    "  password=\"16RBcs#@$\",\n",
    "  database=\"school\"\n",
    ")"
   ]
  },
  {
   "cell_type": "code",
   "execution_count": 6,
   "id": "c5c3def4-8450-4faf-bae7-8ba14f1f8723",
   "metadata": {},
   "outputs": [],
   "source": [
    "import mysql.connector\n",
    "\n",
    "mydb = mysql.connector.connect(\n",
    " host=\"localhost\",\n",
    "  user=\"root\",\n",
    "  password=\"16RBcs#@$\",\n",
    "  database=\"school\"\n",
    ")\n",
    "\n",
    "mycursor = mydb.cursor()\n",
    "\n",
    "mycursor.execute(\"CREATE TABLE class (class_name VARCHAR(10),class_section VARCHAR(10),No_of_Desks int,No_of_Tables int,No_of_Cupboard int,No_of_Blackboard int,No_of_girls int,No_of_Boys int,Total int)\");"
   ]
  },
  {
   "cell_type": "code",
   "execution_count": 7,
   "id": "f1049c61-9042-432a-9307-da03415251ab",
   "metadata": {},
   "outputs": [
    {
     "name": "stdout",
     "output_type": "stream",
     "text": [
      "('class',)\n"
     ]
    }
   ],
   "source": [
    "import mysql.connector\n",
    "\n",
    "mydb = mysql.connector.connect(\n",
    " host=\"localhost\",\n",
    "  user=\"root\",\n",
    "  password=\"16RBcs#@$\",\n",
    "  database=\"school\"\n",
    ")\n",
    "\n",
    "mycursor = mydb.cursor()\n",
    "\n",
    "mycursor.execute(\"SHOW TABLES\")\n",
    "\n",
    "for x in mycursor:\n",
    "  print(x)"
   ]
  },
  {
   "cell_type": "code",
   "execution_count": 19,
   "id": "2ed3957b-8d33-40e0-b1a6-2fe333767ee6",
   "metadata": {},
   "outputs": [
    {
     "ename": "ProgrammingError",
     "evalue": "Not all parameters were used in the SQL statement",
     "output_type": "error",
     "traceback": [
      "\u001b[31m---------------------------------------------------------------------------\u001b[39m",
      "\u001b[31mProgrammingError\u001b[39m                          Traceback (most recent call last)",
      "\u001b[36mCell\u001b[39m\u001b[36m \u001b[39m\u001b[32mIn[19]\u001b[39m\u001b[32m, line 14\u001b[39m\n\u001b[32m     12\u001b[39m sql=\u001b[33m\"\u001b[39m\u001b[33mINSERT INTO class (class_name, class_section, No_of_Desks, No_of_Tables, No_of_Cupboard, No_of_Blackboard, No_of_girls, No_of_Boys, Total) VALUES (\u001b[39m\u001b[38;5;132;01m%s\u001b[39;00m\u001b[33m, \u001b[39m\u001b[38;5;132;01m%s\u001b[39;00m\u001b[33m,\u001b[39m\u001b[38;5;132;01m%d\u001b[39;00m\u001b[33m,\u001b[39m\u001b[38;5;132;01m%d\u001b[39;00m\u001b[33m,\u001b[39m\u001b[38;5;132;01m%d\u001b[39;00m\u001b[33m,\u001b[39m\u001b[38;5;132;01m%d\u001b[39;00m\u001b[33m,\u001b[39m\u001b[38;5;132;01m%d\u001b[39;00m\u001b[33m,\u001b[39m\u001b[38;5;132;01m%d\u001b[39;00m\u001b[33m,\u001b[39m\u001b[38;5;132;01m%d\u001b[39;00m\u001b[33m)\u001b[39m\u001b[33m\"\u001b[39m\n\u001b[32m     13\u001b[39m val =(\u001b[33m'\u001b[39m\u001b[33m1\u001b[39m\u001b[33m'\u001b[39m, \u001b[33m'\u001b[39m\u001b[33mA\u001b[39m\u001b[33m'\u001b[39m,\u001b[32m23\u001b[39m,\u001b[32m1\u001b[39m,\u001b[32m2\u001b[39m,\u001b[32m22\u001b[39m,\u001b[32m24\u001b[39m,\u001b[32m46\u001b[39m)\n\u001b[32m---> \u001b[39m\u001b[32m14\u001b[39m \u001b[43mmycursor\u001b[49m\u001b[43m.\u001b[49m\u001b[43mexecute\u001b[49m\u001b[43m(\u001b[49m\u001b[43msql\u001b[49m\u001b[43m,\u001b[49m\u001b[43m \u001b[49m\u001b[43mval\u001b[49m\u001b[43m)\u001b[49m\n\u001b[32m     16\u001b[39m mydb.commit()\n\u001b[32m     18\u001b[39m \u001b[38;5;28mprint\u001b[39m(mycursor.rowcount, \u001b[33m\"\u001b[39m\u001b[33mwas inserted.\u001b[39m\u001b[33m\"\u001b[39m)\n",
      "\u001b[36mFile \u001b[39m\u001b[32m~\\AppData\\Local\\Programs\\Python\\Python311\\Lib\\site-packages\\mysql\\connector\\cursor_cext.py:333\u001b[39m, in \u001b[36mCMySQLCursor.execute\u001b[39m\u001b[34m(self, operation, params, map_results)\u001b[39m\n\u001b[32m    331\u001b[39m         stmt = RE_PY_PARAM.sub(psub, stmt)\n\u001b[32m    332\u001b[39m         \u001b[38;5;28;01mif\u001b[39;00m psub.remaining != \u001b[32m0\u001b[39m:\n\u001b[32m--> \u001b[39m\u001b[32m333\u001b[39m             \u001b[38;5;28;01mraise\u001b[39;00m ProgrammingError(\n\u001b[32m    334\u001b[39m                 \u001b[33m\"\u001b[39m\u001b[33mNot all parameters were used in the SQL statement\u001b[39m\u001b[33m\"\u001b[39m\n\u001b[32m    335\u001b[39m             )\n\u001b[32m    337\u001b[39m \u001b[38;5;28mself\u001b[39m._stmt_partitions = split_multi_statement(\n\u001b[32m    338\u001b[39m     sql_code=stmt, map_results=map_results\n\u001b[32m    339\u001b[39m )\n\u001b[32m    340\u001b[39m \u001b[38;5;28mself\u001b[39m._stmt_partition = \u001b[38;5;28mnext\u001b[39m(\u001b[38;5;28mself\u001b[39m._stmt_partitions)\n",
      "\u001b[31mProgrammingError\u001b[39m: Not all parameters were used in the SQL statement"
     ]
    }
   ],
   "source": [
    "import mysql.connector\n",
    "\n",
    "mydb = mysql.connector.connect(\n",
    " host=\"localhost\",\n",
    "  user=\"root\",\n",
    "  password=\"16RBcs#@$\",\n",
    "  database=\"school\"\n",
    ")\n",
    "\n",
    "mycursor = mydb.cursor()\n",
    "\n",
    "sql=\"INSERT INTO class (class_name, class_section, No_of_Desks, No_of_Tables, No_of_Cupboard, No_of_Blackboard, No_of_girls, No_of_Boys, Total) VALUES (%s, %s,%d,%d,%d,%d,%d,%d,%d)\"\n",
    "val =('1', 'A',23,1,2,22,24,46)\n",
    "mycursor.execute(sql, val)\n",
    "\n",
    "mydb.commit()\n",
    "\n",
    "print(mycursor.rowcount, \"was inserted.\")\n"
   ]
  },
  {
   "cell_type": "code",
   "execution_count": null,
   "id": "5fdd0b6e-73f9-4ceb-8d37-a3bfeb8be3c8",
   "metadata": {},
   "outputs": [],
   "source": []
  }
 ],
 "metadata": {
  "kernelspec": {
   "display_name": "Python 3 (ipykernel)",
   "language": "python",
   "name": "python3"
  },
  "language_info": {
   "codemirror_mode": {
    "name": "ipython",
    "version": 3
   },
   "file_extension": ".py",
   "mimetype": "text/x-python",
   "name": "python",
   "nbconvert_exporter": "python",
   "pygments_lexer": "ipython3",
   "version": "3.11.9"
  }
 },
 "nbformat": 4,
 "nbformat_minor": 5
}
